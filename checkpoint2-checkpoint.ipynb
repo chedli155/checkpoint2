{
 "cells": [
  {
   "cell_type": "markdown",
   "metadata": {},
   "source": [
    "\n",
    "# question 1"
   ]
  },
  {
   "cell_type": "code",
   "execution_count": null,
   "metadata": {},
   "outputs": [],
   "source": [
    "ch=\"\"\n",
    "for i in range (2000,3201):\n",
    "    if i%7==0 and i%5 !=0:\n",
    "        ch=ch+\" \"+str(i)\n",
    "print(ch)\n",
    "    \n"
   ]
  },
  {
   "cell_type": "markdown",
   "metadata": {},
   "source": [
    "# question2"
   ]
  },
  {
   "cell_type": "code",
   "execution_count": 12,
   "metadata": {},
   "outputs": [
    {
     "name": "stdout",
     "output_type": "stream",
     "text": [
      "please enter the number8\n",
      "40320\n"
     ]
    }
   ],
   "source": [
    "d=1\n",
    "ch= input ('please enter the number')\n",
    "n=int(ch)\n",
    "for k in range (2,n+1):\n",
    "    d=d*k\n",
    "print (str(d))\n",
    "\n"
   ]
  },
  {
   "cell_type": "markdown",
   "metadata": {},
   "source": [
    "# question 3\n"
   ]
  },
  {
   "cell_type": "code",
   "execution_count": 14,
   "metadata": {},
   "outputs": [
    {
     "name": "stdout",
     "output_type": "stream",
     "text": [
      "enter the number5\n",
      "{1: 1, 2: 4, 3: 9, 4: 16, 5: 25}\n"
     ]
    }
   ],
   "source": [
    "mydict={1:1}\n",
    "n= input('enter the number')\n",
    "n= int(n)\n",
    "for i in range (2,n+1):\n",
    "    mydict[i]=i*i\n",
    "print (mydict)    "
   ]
  },
  {
   "cell_type": "markdown",
   "metadata": {},
   "source": [
    "# question4"
   ]
  },
  {
   "cell_type": "code",
   "execution_count": 2,
   "metadata": {},
   "outputs": [
    {
     "name": "stdout",
     "output_type": "stream",
     "text": [
      "entrer une chainefarah\n",
      "entrer un nombre4\n",
      "farh\n"
     ]
    }
   ],
   "source": [
    "ch=input(\"entrer une chaine\")\n",
    "n=input(\"entrer un nombre\")\n",
    "n=int(n)\n",
    "while n>len(ch)-1:\n",
    "    n=input(\"entrer un nombre\")\n",
    "    n=int(n)\n",
    "ch1=\"\"\n",
    "for i in range (0,n-1):\n",
    "    ch1=ch1+ch[i]\n",
    "for i in range (n,len(ch)):\n",
    "    ch1=ch1+ch[i]\n",
    "print(ch1)\n",
    "    "
   ]
  },
  {
   "cell_type": "markdown",
   "metadata": {},
   "source": [
    "# question 5"
   ]
  },
  {
   "cell_type": "code",
   "execution_count": 4,
   "metadata": {},
   "outputs": [
    {
     "name": "stdout",
     "output_type": "stream",
     "text": [
      "[[0, 1], [2, 3], [4, 5]]\n"
     ]
    }
   ],
   "source": [
    "import numpy as np\n",
    "new_array=np.array([[0,1],[2,3],[4,5]]) \n",
    "list1 =new_array.tolist()\n",
    "print(list1)"
   ]
  },
  {
   "cell_type": "markdown",
   "metadata": {},
   "source": [
    "# question 6\n"
   ]
  },
  {
   "cell_type": "code",
   "execution_count": 6,
   "metadata": {},
   "outputs": [
    {
     "name": "stdout",
     "output_type": "stream",
     "text": [
      "[[ 1. -1.]\n",
      " [-1.  1.]]\n"
     ]
    }
   ],
   "source": [
    "import numpy as np\n",
    "originalarray1=np.array([0,1,2]) \n",
    "originalarray2=np.array([2,1,0])\n",
    "print(np.cov(originalarray1,originalarray2))\n",
    "\n"
   ]
  },
  {
   "cell_type": "markdown",
   "metadata": {},
   "source": [
    "# question 7"
   ]
  },
  {
   "cell_type": "code",
   "execution_count": 15,
   "metadata": {},
   "outputs": [
    {
     "name": "stdout",
     "output_type": "stream",
     "text": [
      "donner les valeurs de D100,10,8\n",
      "18,6,5,\n"
     ]
    }
   ],
   "source": [
    "from math import sqrt\n",
    "ch=input('donner les valeurs de D')\n",
    "H=30\n",
    "C=50\n",
    "D=ch.split(',')\n",
    "ch1=''\n",
    "for i in D:\n",
    "    Q=sqrt((2 * C *int(i))/H)\n",
    "    Q=round(Q)\n",
    "    ch1=ch1+str(Q)+','\n",
    "print(ch1)"
   ]
  },
  {
   "cell_type": "code",
   "execution_count": 14,
   "metadata": {},
   "outputs": [
    {
     "name": "stdout",
     "output_type": "stream",
     "text": [
      "donner les valeurs de D100,10,8\n",
      "18,6,5,\n"
     ]
    }
   ],
   "source": []
  },
  {
   "cell_type": "code",
   "execution_count": null,
   "metadata": {},
   "outputs": [],
   "source": []
  },
  {
   "cell_type": "code",
   "execution_count": null,
   "metadata": {},
   "outputs": [],
   "source": []
  },
  {
   "cell_type": "code",
   "execution_count": null,
   "metadata": {},
   "outputs": [],
   "source": []
  }
 ],
 "metadata": {
  "kernelspec": {
   "display_name": "Python 3",
   "language": "python",
   "name": "python3"
  },
  "language_info": {
   "codemirror_mode": {
    "name": "ipython",
    "version": 3
   },
   "file_extension": ".py",
   "mimetype": "text/x-python",
   "name": "python",
   "nbconvert_exporter": "python",
   "pygments_lexer": "ipython3",
   "version": "3.8.3"
  }
 },
 "nbformat": 4,
 "nbformat_minor": 4
}
